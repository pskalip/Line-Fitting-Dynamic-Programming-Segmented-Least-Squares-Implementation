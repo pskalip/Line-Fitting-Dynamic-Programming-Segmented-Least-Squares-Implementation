{
 "cells": [
  {
   "cell_type": "code",
   "execution_count": 1,
   "metadata": {},
   "outputs": [],
   "source": [
    "import matplotlib \n",
    "import matplotlib.pyplot as plt \n",
    "import numpy as np"
   ]
  },
  {
   "cell_type": "code",
   "execution_count": 2,
   "metadata": {},
   "outputs": [
    {
     "name": "stdout",
     "output_type": "stream",
     "text": [
      "['1.2606 -6.14441 8 25\\n', '0 1.5 1 6\\n']\n",
      "['12 3\\n', '1 1.5\\n', '2 1.5\\n', '4 1.5\\n', '6 1.5\\n', '8 4\\n', '10 6.5\\n', '9 5.25\\n', '11 7.75\\n', '12 9\\n', '15 12.5\\n', '19 17.75\\n', '25 25.5\\n']\n"
     ]
    }
   ],
   "source": [
    "file1=open('input1.txt','r')\n",
    "file2 = open('output1.txt', 'r')\n",
    "image1= \"segment1.png\"\n",
    "image2=\"mergedsegment1.png\"\n",
    "\n",
    "Points = file1.readlines()\n",
    "Lines = file2.readlines()\n",
    "# Lines\n",
    "# Points\n",
    "\n",
    "print(Lines)\n",
    "print(Points)"
   ]
  },
  {
   "cell_type": "code",
   "execution_count": 3,
   "metadata": {},
   "outputs": [
    {
     "data": {
      "text/plain": [
       "[[1.2606, -6.14441, 8.0, 25.0], [0.0, 1.5, 1.0, 6.0]]"
      ]
     },
     "execution_count": 3,
     "metadata": {},
     "output_type": "execute_result"
    }
   ],
   "source": [
    "info=[]\n",
    "points =[]\n",
    "for i in range(1,len(Points)):\n",
    "    temp=Points[i].split(\" \")\n",
    "    for j in range(len(temp)):\n",
    "        temp[j]=float(temp[j])\n",
    "    points.append(temp)\n",
    "for i in range(len(Lines)):\n",
    "    temp=Lines[i].split(\" \")\n",
    "    for j in range(len(temp)):\n",
    "        temp[j]=float(temp[j])\n",
    "    info.append(temp)\n",
    "info\n",
    "# points"
   ]
  },
  {
   "cell_type": "code",
   "execution_count": 4,
   "metadata": {},
   "outputs": [
    {
     "name": "stdout",
     "output_type": "stream",
     "text": [
      "[[8.0, 25.0], [1.0, 6.0]]\n"
     ]
    },
    {
     "data": {
      "text/plain": [
       "[25.0, 8.0, 6.0, 1.0]"
      ]
     },
     "execution_count": 4,
     "metadata": {},
     "output_type": "execute_result"
    }
   ],
   "source": [
    "# x1=[]\n",
    "# x2=[]\n",
    "# y1=[]\n",
    "# y2=[]\n",
    "\n",
    "lines_all_x=[]\n",
    "lines_all_y=[]\n",
    "\n",
    "finalx=[]\n",
    "finaly=[]\n",
    "\n",
    "for i in info:\n",
    "    x=[]\n",
    "    x.append(i[2])\n",
    "    x.append(i[3])\n",
    "    y=[]\n",
    "    if i[2]!=i[3]:\n",
    "        y.append(i[0]*i[2]+i[1])\n",
    "        y.append(i[0]*i[3]+i[1])\n",
    "    else:\n",
    "        y.append(i[4])\n",
    "        y.append(i[5])\n",
    "    lines_all_x.append(x)\n",
    "    lines_all_y.append(y)\n",
    "    finalx.append(x[1])\n",
    "    finalx.append(x[0])\n",
    "    finaly.append(y[1])\n",
    "    finaly.append(y[0])\n",
    "# x1=np.array(x1)\n",
    "# x2=np.array(x2)\n",
    "# y1=np.array(y1)\n",
    "# y2=np.array(y2)\n",
    "\n",
    "# print(y1)\n",
    "print(lines_all_x)\n",
    "finalx"
   ]
  },
  {
   "cell_type": "code",
   "execution_count": 5,
   "metadata": {},
   "outputs": [
    {
     "data": {
      "image/png": "[encoded data removed]",
      "text/plain": [
       "<Figure size 432x288 with 1 Axes>"
      ]
     },
     "metadata": {
      "needs_background": "light"
     },
     "output_type": "display_data"
    }
   ],
   "source": [
    "for i in range(len(lines_all_x)):\n",
    "    plt.plot(np.array(lines_all_x[i]),np.array(lines_all_y[i]),color=\"blue\")\n",
    "for i in range(len(points)):\n",
    "    plt.scatter(points[i][0],points[i][1],color=\"red\")\n",
    "\n",
    "plt.savefig(image1,bbox_inches='tight',facecolor =\"w\")\n",
    "plt.show()\n",
    "\n"
   ]
  },
  {
   "cell_type": "code",
   "execution_count": 6,
   "metadata": {
    "scrolled": true
   },
   "outputs": [
    {
     "data": {
      "image/png": "[encoded data removed]",
      "text/plain": [
       "<Figure size 432x288 with 1 Axes>"
      ]
     },
     "metadata": {
      "needs_background": "light"
     },
     "output_type": "display_data"
    }
   ],
   "source": [
    "plt.plot(np.array(finalx),np.array(finaly),color=\"black\")\n",
    "for i in range(len(points)):\n",
    "    plt.scatter(points[i][0],points[i][1],color=\"red\")\n",
    "\n",
    "plt.savefig(image2,bbox_inches='tight',facecolor =\"w\")\n",
    "plt.show()"
   ]
  },
  {
   "cell_type": "code",
   "execution_count": null,
   "metadata": {},
   "outputs": [],
   "source": []
  }
 ],
 "metadata": {
  "kernelspec": {
   "display_name": "Python 3",
   "language": "python",
   "name": "python3"
  },
  "language_info": {
   "codemirror_mode": {
    "name": "ipython",
    "version": 3
   },
   "file_extension": ".py",
   "mimetype": "text/x-python",
   "name": "python",
   "nbconvert_exporter": "python",
   "pygments_lexer": "ipython3",
   "version": "3.8.5"
  }
 },
 "nbformat": 4,
 "nbformat_minor": 4
}
